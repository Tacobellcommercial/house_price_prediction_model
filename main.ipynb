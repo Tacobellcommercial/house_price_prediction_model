{
 "cells": [
  {
   "cell_type": "code",
   "execution_count": 30,
   "metadata": {},
   "outputs": [
    {
     "name": "stdout",
     "output_type": "stream",
     "text": [
      "107404.56069835529\n"
     ]
    }
   ],
   "source": [
    "import tensorflow\n",
    "import pandas as pd\n",
    "import numpy as np\n",
    "\n",
    "regression_model = tensorflow.keras.models.load_model(\"house_price_regression_predictor.keras\")\n",
    "\n",
    "df = pd.read_csv(\"kc_house_data.csv\")\n",
    "\n",
    "#simple data cleaning\n",
    "\n",
    "df = df[df[\"price\"]<1000000] #sort houses under 1 million\n",
    "\n",
    "columns_to_remove = [\"zipcode\", \"id\", \"waterfront\", \"date\"] #feature engineer date before removing\n",
    "\n",
    "df[\"year\"] = df[\"date\"].apply(lambda x: int(x.split(\"/\")[2]))\n",
    "df[\"bathrooms\"] = df[\"bathrooms\"].apply(lambda x: round(x))\n",
    "df[\"bedrooms\"] = df[\"bedrooms\"].apply(lambda x: round(x))\n",
    "df[\"floors\"] = df[\"floors\"].apply(lambda x: round(x))\n",
    "\n",
    "\n",
    "df.drop(columns_to_remove, axis=1, inplace=True)\n",
    "\n",
    "\n",
    "X = df.drop(\"price\", axis=1).values\n",
    "y = df[\"price\"].values\n",
    "\n",
    "from sklearn.model_selection import train_test_split\n",
    "\n",
    "X_train, X_test, y_train, y_test = train_test_split(X, y, test_size=0.3, random_state=101) #use same random state as model\n",
    "\n",
    "from sklearn.preprocessing import MinMaxScaler\n",
    "\n",
    "scaler = MinMaxScaler()\n",
    "\n",
    "X_train = scaler.fit_transform(X_train)\n",
    "\n",
    "X_test = scaler.transform(X_test)\n",
    "\n",
    "predictions = regression_model.predict(X_test)\n",
    "\n",
    "from sklearn.metrics import mean_squared_error\n",
    "\n",
    "print(np.sqrt(mean_squared_error(y_true=y_test, y_pred=predictions)))\n"
   ]
  }
 ],
 "metadata": {
  "kernelspec": {
   "display_name": "Python 3",
   "language": "python",
   "name": "python3"
  },
  "language_info": {
   "codemirror_mode": {
    "name": "ipython",
    "version": 3
   },
   "file_extension": ".py",
   "mimetype": "text/x-python",
   "name": "python",
   "nbconvert_exporter": "python",
   "pygments_lexer": "ipython3",
   "version": "3.8.5"
  }
 },
 "nbformat": 4,
 "nbformat_minor": 4
}
